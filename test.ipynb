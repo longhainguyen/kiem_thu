{
 "cells": [
  {
   "cell_type": "code",
   "execution_count": 2,
   "metadata": {},
   "outputs": [],
   "source": [
    "import unittest\n",
    "import bt"
   ]
  },
  {
   "cell_type": "code",
   "execution_count": 5,
   "metadata": {},
   "outputs": [],
   "source": [
    "class Test(unittest.TestCase):\n",
    "    \n",
    "    def test1(self):\n",
    "        result = bt.tong_tien_thang(1, 50)\n",
    "        self.assertEqual(result, 1790300)\n",
    "\n",
    "    def test2(self):\n",
    "        result = bt.tong_tien_thang(2, 100)\n",
    "        self.assertEqual(result, 2283600)\n",
    "\n",
    "    def test3(self):\n",
    "        result = bt.tong_tien_thang(3, 110)\n",
    "        self.assertEqual(result, 2705270)\n",
    "\n",
    "    def test4(self):\n",
    "        result = bt.tong_tien_thang(4, 110)\n",
    "        self.assertEqual(result, 0)\n",
    "\n",
    "    "
   ]
  },
  {
   "cell_type": "code",
   "execution_count": 4,
   "metadata": {},
   "outputs": [
    {
     "name": "stderr",
     "output_type": "stream",
     "text": [
      "....\n",
      "----------------------------------------------------------------------\n",
      "Ran 4 tests in 0.007s\n",
      "\n",
      "OK\n"
     ]
    }
   ],
   "source": [
    "if __name__ == '__main__':\n",
    "    unittest.main(argv=[''], exit=False)"
   ]
  }
 ],
 "metadata": {
  "kernelspec": {
   "display_name": "Python 3",
   "language": "python",
   "name": "python3"
  },
  "language_info": {
   "codemirror_mode": {
    "name": "ipython",
    "version": 3
   },
   "file_extension": ".py",
   "mimetype": "text/x-python",
   "name": "python",
   "nbconvert_exporter": "python",
   "pygments_lexer": "ipython3",
   "version": "3.11.5"
  }
 },
 "nbformat": 4,
 "nbformat_minor": 2
}
