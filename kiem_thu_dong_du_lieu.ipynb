{
 "cells": [
  {
   "cell_type": "code",
   "execution_count": 12,
   "metadata": {},
   "outputs": [],
   "source": [
    "import unittest\n",
    "import bt"
   ]
  },
  {
   "cell_type": "code",
   "execution_count": 21,
   "metadata": {},
   "outputs": [],
   "source": [
    "class Kiem_thu_dong_du_lieu(unittest.TestCase):\n",
    "\n",
    "    def test_so_nguoi_1(self):\n",
    "        result = bt.tong_tien_thang(1, 30)\n",
    "        self.assertEqual(result, 1754180)\n",
    "\n",
    "    def test_so_nguoi_2(self):\n",
    "        result = bt.tong_tien_thang(1, 30)\n",
    "        self.assertEqual(result, 1754180)\n",
    "\n",
    "    def test_so_nguoi_3(self):\n",
    "        result = bt.tong_tien_thang(2, 30)\n",
    "        self.assertEqual(result, 2154180)\n",
    "\n",
    "    def test_so_nguoi_4(self):\n",
    "        result = bt.tong_tien_thang(2, 30)\n",
    "        self.assertEqual(result, 2154180)\n",
    "\n",
    "    def test_so_nguoi_5(self):\n",
    "        result = bt.tong_tien_thang(3, 30)\n",
    "        self.assertEqual(result, 2554180)\n",
    "\n",
    "    def test_so_nguoi_6(self):\n",
    "        result = bt.tong_tien_thang(3, 30)\n",
    "        self.assertEqual(result, 2554180)\n",
    "\n",
    "    def test_so_nguoi_7(self):\n",
    "        result = bt.tong_tien_thang(4, 30)\n",
    "        self.assertEqual(result, 0)\n",
    "\n",
    "    def test_kwh_1(self):\n",
    "        result = bt.tong_tien_thang(4, 100)\n",
    "        self.assertEqual(result, 0)\n",
    "\n",
    "    def test_kwh_2(self):\n",
    "        result = bt.tong_tien_thang(1, 30)\n",
    "        self.assertEqual(result, 1754180)\n",
    "\n",
    "    def test_kwh_3(self):\n",
    "        result = bt.tong_tien_thang(1, 100)\n",
    "        self.assertEqual(result, 1883600)\n",
    "\n",
    "    def test_kwh_4(self):\n",
    "        result = bt.tong_tien_thang(1, 100)\n",
    "        self.assertEqual(result, 1883600)\n",
    "\n",
    "    def test_kwh_5(self):\n",
    "        result = bt.tong_tien_thang(1, 101)\n",
    "        self.assertEqual(result, 1885767)\n",
    "    \n",
    "    def test_kwh_6(self):\n",
    "        result = bt.tong_tien_thang(1, 30)\n",
    "        self.assertEqual(result, 1754180)\n",
    "\n",
    "    def test_kwh_7(self):\n",
    "        result = bt.tong_tien_thang(1, 100)\n",
    "        self.assertEqual(result, 1883600)\n",
    "\n",
    "    def test_kwh_8(self):\n",
    "        result = bt.tong_tien_thang(1, 101)\n",
    "        self.assertEqual(result, 1885767)\n",
    "\n",
    "    def test_tien_tro_1(self):\n",
    "        result = bt.tong_tien_thang(1, 30)\n",
    "        self.assertEqual(result, 1754180)\n",
    "\n",
    "    def test_tien_tro_2(self):\n",
    "        result = bt.tong_tien_thang(2, 30)\n",
    "        self.assertEqual(result, 2154180)\n",
    "    \n",
    "    def test_tien_tro_3(self):\n",
    "        result = bt.tong_tien_thang(3, 30)\n",
    "        self.assertEqual(result, 2554180)\n",
    "\n",
    "    def test_tien_tro_4(self):\n",
    "        result = bt.tong_tien_thang(4, 30)\n",
    "        self.assertEqual(result, 0)\n",
    "\n",
    "    def test_tien_dien_1(self): \n",
    "        result = bt.tong_tien_thang(1, 30)\n",
    "        self.assertEqual(result, 1754180)\n",
    "    \n",
    "    def test_tien_dien_2(self): \n",
    "        result = bt.tong_tien_thang(1, 100)\n",
    "        self.assertEqual(result, 1883600)\n",
    "\n",
    "    def test_tien_dien_3(self):\n",
    "        result = bt.tong_tien_thang(1, 101)\n",
    "        self.assertEqual(result, 1885767)"
   ]
  },
  {
   "cell_type": "code",
   "execution_count": 22,
   "metadata": {},
   "outputs": [
    {
     "name": "stderr",
     "output_type": "stream",
     "text": [
      "......................\n",
      "----------------------------------------------------------------------\n",
      "Ran 22 tests in 0.024s\n",
      "\n",
      "OK\n"
     ]
    }
   ],
   "source": [
    "if __name__ == '__main__':\n",
    "    unittest.main(argv=[''], exit=False)"
   ]
  }
 ],
 "metadata": {
  "kernelspec": {
   "display_name": "Python 3",
   "language": "python",
   "name": "python3"
  },
  "language_info": {
   "codemirror_mode": {
    "name": "ipython",
    "version": 3
   },
   "file_extension": ".py",
   "mimetype": "text/x-python",
   "name": "python",
   "nbconvert_exporter": "python",
   "pygments_lexer": "ipython3",
   "version": "3.11.5"
  }
 },
 "nbformat": 4,
 "nbformat_minor": 2
}
